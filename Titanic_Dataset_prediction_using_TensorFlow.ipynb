{
  "nbformat": 4,
  "nbformat_minor": 0,
  "metadata": {
    "colab": {
      "name": "Titanic Dataset prediction using TensorFlow.ipynb",
      "version": "0.3.2",
      "provenance": [],
      "include_colab_link": true
    },
    "kernelspec": {
      "name": "python3",
      "display_name": "Python 3"
    },
    "accelerator": "GPU"
  },
  "cells": [
    {
      "cell_type": "markdown",
      "metadata": {
        "id": "view-in-github",
        "colab_type": "text"
      },
      "source": [
        "<a href=\"https://colab.research.google.com/github/Lishat/Neural-Networks-on-Titanic-Dataset/blob/master/Titanic_Dataset_prediction_using_TensorFlow.ipynb\" target=\"_parent\"><img src=\"https://colab.research.google.com/assets/colab-badge.svg\" alt=\"Open In Colab\"/></a>"
      ]
    },
    {
      "cell_type": "code",
      "metadata": {
        "id": "Lmtofghd72_Y",
        "colab_type": "code",
        "colab": {}
      },
      "source": [
        "import numpy as np\n",
        "import pandas as pd\n",
        "from sklearn.model_selection import train_test_split\n",
        "from sklearn.metrics import accuracy_score\n",
        "import tensorflow as tf"
      ],
      "execution_count": 0,
      "outputs": []
    },
    {
      "cell_type": "code",
      "metadata": {
        "id": "jumKwnAD8Yhi",
        "colab_type": "code",
        "colab": {
          "base_uri": "https://localhost:8080/",
          "height": 35
        },
        "outputId": "a5ca80d6-35b7-4def-e8b5-68187709f410"
      },
      "source": [
        "data = pd.read_csv(\"train.csv\")\n",
        "data = data.drop(columns=[\"Name\", \"Ticket\", \"Cabin\", \"PassengerId\"])\n",
        "data[\"Age\"] = data[\"Age\"].fillna(data[\"Age\"].mean())\n",
        "data = pd.concat([data.drop(columns=[\"Sex\"]),pd.get_dummies(data[\"Sex\"], drop_first=True)], axis=1)\n",
        "data = pd.concat([data.drop(columns=[\"Embarked\"]),pd.get_dummies(data[\"Embarked\"], drop_first=True)], axis=1)\n",
        "x_train, x_test, y_train, y_test = train_test_split(data.drop(columns=[\"Survived\"]), data[\"Survived\"], test_size=0.25)\n",
        "y_train = (np.array(y_train)).reshape(668, 1)\n",
        "y_test = (np.array(y_test)).reshape(223, 1)\n",
        "print(x_train.shape, y_train.shape, x_test.shape, y_test.shape)"
      ],
      "execution_count": 23,
      "outputs": [
        {
          "output_type": "stream",
          "text": [
            "(668, 8) (668, 1) (223, 8) (223, 1)\n"
          ],
          "name": "stdout"
        }
      ]
    },
    {
      "cell_type": "code",
      "metadata": {
        "id": "vQgIf2mC87EJ",
        "colab_type": "code",
        "colab": {}
      },
      "source": [
        "def ANN(x_train, x_test, y_train, y_test, hidden_units1 = 30, hidden_units2 = 20, learning_rate = 0.001, epochs = 100000):\n",
        "  x = tf.placeholder(tf.float32, [None, 8])\n",
        "  y = tf.placeholder(tf.float32, [None, 1])\n",
        "  initializer = tf.contrib.layers.xavier_initializer()\n",
        "  W1 = tf.Variable(initializer([8, hidden_units1]), name=\"W1\")\n",
        "  b1 = tf.Variable(initializer([hidden_units1]), name=\"b1\")\n",
        "  z1 = tf.matmul(x, W1) + b1\n",
        "  a1 = tf.nn.relu(z1)\n",
        "  W2 = tf.Variable(initializer([hidden_units1, hidden_units2]), name=\"W2\")\n",
        "  b2 = tf.Variable(initializer([hidden_units2]), name=\"b2\")\n",
        "  z2 = tf.matmul(z1, W2) + b2\n",
        "  a2 = tf.nn.relu(z2)\n",
        "  W3 = tf.Variable(initializer([hidden_units2, 1]), name=\"W3\")\n",
        "  b3 = tf.Variable(initializer([1]), name=\"b3\")\n",
        "  z3 = tf.matmul(z2, W3) + b3\n",
        "  a3 = tf.nn.sigmoid(z3)\n",
        "  loss = tf.reduce_mean(tf.nn.sigmoid_cross_entropy_with_logits(logits=z3, labels = y))\n",
        "  optimizer = tf.train.AdamOptimizer(learning_rate=learning_rate).minimize(loss)\n",
        "  accuracy = tf.reduce_mean(tf.cast(tf.equal(tf.round(a3), y), tf.float32))\n",
        "  with tf.Session() as sess:\n",
        "    sess.run(tf.global_variables_initializer())\n",
        "    for epoch in range(epochs):\n",
        "      _, c = sess.run([optimizer, loss], feed_dict={x:x_train, y:y_train})\n",
        "      if epoch%1000 == 0:\n",
        "        print(\"LOSS after\", epoch, \"th epoch:\", c)\n",
        "    train_accuracy = sess.run(accuracy, feed_dict={x:x_train, y:y_train})\n",
        "    test_accuracy = sess.run(accuracy, feed_dict={x:x_test, y:y_test})\n",
        "    print(\"Train Accuracy:\", train_accuracy*100)\n",
        "    print(\"Test Accuracy:\", test_accuracy*100)"
      ],
      "execution_count": 0,
      "outputs": []
    },
    {
      "cell_type": "code",
      "metadata": {
        "id": "IpQTa21T-P5a",
        "colab_type": "code",
        "colab": {
          "base_uri": "https://localhost:8080/",
          "height": 225
        },
        "outputId": "86241b92-2d74-4bed-a190-4f60974750ff"
      },
      "source": [
        "ANN(x_train, x_test, y_train, y_test, epochs = 10000)"
      ],
      "execution_count": 32,
      "outputs": [
        {
          "output_type": "stream",
          "text": [
            "LOSS after 0 th epoch: 7.180929\n",
            "LOSS after 1000 th epoch: 0.43216974\n",
            "LOSS after 2000 th epoch: 0.42566425\n",
            "LOSS after 3000 th epoch: 0.42588344\n",
            "LOSS after 4000 th epoch: 0.4259177\n",
            "LOSS after 5000 th epoch: 0.42592365\n",
            "LOSS after 6000 th epoch: 0.42592064\n",
            "LOSS after 7000 th epoch: 0.42591402\n",
            "LOSS after 8000 th epoch: 0.42590675\n",
            "LOSS after 9000 th epoch: 0.42589927\n",
            "Train Accuracy: 81.58682584762573\n",
            "Test Accuracy: 79.82062697410583\n"
          ],
          "name": "stdout"
        }
      ]
    },
    {
      "cell_type": "code",
      "metadata": {
        "id": "2IlWJxfLAMdp",
        "colab_type": "code",
        "colab": {}
      },
      "source": [
        ""
      ],
      "execution_count": 0,
      "outputs": []
    }
  ]
}